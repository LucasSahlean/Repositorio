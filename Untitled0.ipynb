{
  "nbformat": 4,
  "nbformat_minor": 0,
  "metadata": {
    "colab": {
      "provenance": [],
      "authorship_tag": "ABX9TyMjVS9UtdoAcoyKPVTTKAto",
      "include_colab_link": true
    },
    "kernelspec": {
      "name": "python3",
      "display_name": "Python 3"
    },
    "language_info": {
      "name": "python"
    }
  },
  "cells": [
    {
      "cell_type": "markdown",
      "metadata": {
        "id": "view-in-github",
        "colab_type": "text"
      },
      "source": [
        "<a href=\"https://colab.research.google.com/github/LucasSahlean/Repositorio/blob/main/Untitled0.ipynb\" target=\"_parent\"><img src=\"https://colab.research.google.com/assets/colab-badge.svg\" alt=\"Open In Colab\"/></a>"
      ]
    },
    {
      "cell_type": "code",
      "source": [],
      "metadata": {
        "id": "8EcMdoKy-cyh"
      },
      "execution_count": null,
      "outputs": []
    },
    {
      "cell_type": "code",
      "source": [
        "!gdown 1puf9UBuzaVqMW3ZMMXhd626E5yVJd_QX"
      ],
      "metadata": {
        "colab": {
          "base_uri": "https://localhost:8080/"
        },
        "id": "WlUy9fE99V6P",
        "outputId": "c4214906-823a-4313-a716-97277abc2d0c"
      },
      "execution_count": 1,
      "outputs": [
        {
          "output_type": "stream",
          "name": "stdout",
          "text": [
            "Downloading...\n",
            "From: https://drive.google.com/uc?id=1puf9UBuzaVqMW3ZMMXhd626E5yVJd_QX\n",
            "To: /content/data_berka.db\n",
            "100% 70.2M/70.2M [00:00<00:00, 91.0MB/s]\n"
          ]
        }
      ]
    },
    {
      "cell_type": "code",
      "execution_count": 9,
      "metadata": {
        "colab": {
          "base_uri": "https://localhost:8080/"
        },
        "id": "jd6dvTmq9Kms",
        "outputId": "0ba9af9e-8616-494b-c44e-93722f884593"
      },
      "outputs": [
        {
          "output_type": "stream",
          "name": "stdout",
          "text": [
            "The sql extension is already loaded. To reload it, use:\n",
            "  %reload_ext sql\n"
          ]
        }
      ],
      "source": [
        "%config SqlMagic.style = '_DEPRECATED_DEFAULT'\n",
        "%load_ext sql"
      ]
    },
    {
      "cell_type": "code",
      "source": [
        "%sql sqlite:///data_berka.db"
      ],
      "metadata": {
        "id": "61XRRmTb-BPf"
      },
      "execution_count": 7,
      "outputs": []
    },
    {
      "cell_type": "code",
      "source": [
        "%%sql\n",
        "SELECT name, type\n",
        "FROM sqlite_master\n",
        "WHERE type = \"table\""
      ],
      "metadata": {
        "colab": {
          "base_uri": "https://localhost:8080/",
          "height": 246
        },
        "id": "64iIdyKA-I9w",
        "outputId": "1fa12771-5e72-4691-831d-b37337298b68"
      },
      "execution_count": 10,
      "outputs": [
        {
          "output_type": "stream",
          "name": "stdout",
          "text": [
            " * sqlite:///data_berka.db\n",
            "Done.\n"
          ]
        },
        {
          "output_type": "execute_result",
          "data": {
            "text/plain": [
              "[('DISTRICT', 'table'),\n",
              " ('ACCOUNT', 'table'),\n",
              " ('TRANS', 'table'),\n",
              " ('CLIENT', 'table'),\n",
              " ('DISPOSITION', 'table'),\n",
              " ('CREDIT_CARD', 'table'),\n",
              " ('LOAN', 'table'),\n",
              " ('PERMANENT_ORDER', 'table')]"
            ],
            "text/html": [
              "<table>\n",
              "    <thead>\n",
              "        <tr>\n",
              "            <th>name</th>\n",
              "            <th>type</th>\n",
              "        </tr>\n",
              "    </thead>\n",
              "    <tbody>\n",
              "        <tr>\n",
              "            <td>DISTRICT</td>\n",
              "            <td>table</td>\n",
              "        </tr>\n",
              "        <tr>\n",
              "            <td>ACCOUNT</td>\n",
              "            <td>table</td>\n",
              "        </tr>\n",
              "        <tr>\n",
              "            <td>TRANS</td>\n",
              "            <td>table</td>\n",
              "        </tr>\n",
              "        <tr>\n",
              "            <td>CLIENT</td>\n",
              "            <td>table</td>\n",
              "        </tr>\n",
              "        <tr>\n",
              "            <td>DISPOSITION</td>\n",
              "            <td>table</td>\n",
              "        </tr>\n",
              "        <tr>\n",
              "            <td>CREDIT_CARD</td>\n",
              "            <td>table</td>\n",
              "        </tr>\n",
              "        <tr>\n",
              "            <td>LOAN</td>\n",
              "            <td>table</td>\n",
              "        </tr>\n",
              "        <tr>\n",
              "            <td>PERMANENT_ORDER</td>\n",
              "            <td>table</td>\n",
              "        </tr>\n",
              "    </tbody>\n",
              "</table>"
            ]
          },
          "metadata": {},
          "execution_count": 10
        }
      ]
    },
    {
      "cell_type": "markdown",
      "source": [
        "ejercicios# Nueva sección"
      ],
      "metadata": {
        "id": "4AEQZ1y190nv"
      }
    },
    {
      "cell_type": "code",
      "source": [
        "%sql SELECT COUNT * FROM CLIENT LIMIT 5"
      ],
      "metadata": {
        "colab": {
          "base_uri": "https://localhost:8080/"
        },
        "id": "ExBmqA9-A_YH",
        "outputId": "9c5ccd00-fe60-47b6-e5bf-3d43afdad367"
      },
      "execution_count": 11,
      "outputs": [
        {
          "output_type": "stream",
          "name": "stdout",
          "text": [
            " * sqlite:///data_berka.db\n",
            "(sqlite3.OperationalError) near \"FROM\": syntax error\n",
            "[SQL: SELECT COUNT * FROM CLIENT LIMIT 5]\n",
            "(Background on this error at: https://sqlalche.me/e/20/e3q8)\n"
          ]
        }
      ]
    },
    {
      "cell_type": "code",
      "source": [
        "%sql SELECT count(*) from trans"
      ],
      "metadata": {
        "colab": {
          "base_uri": "https://localhost:8080/",
          "height": 96
        },
        "id": "OpTIxamIBRIC",
        "outputId": "636cfc79-cb4a-4b04-eb17-fd89bb4758da"
      },
      "execution_count": 13,
      "outputs": [
        {
          "output_type": "stream",
          "name": "stdout",
          "text": [
            " * sqlite:///data_berka.db\n",
            "Done.\n"
          ]
        },
        {
          "output_type": "execute_result",
          "data": {
            "text/plain": [
              "[(1056320,)]"
            ],
            "text/html": [
              "<table>\n",
              "    <thead>\n",
              "        <tr>\n",
              "            <th>count(*)</th>\n",
              "        </tr>\n",
              "    </thead>\n",
              "    <tbody>\n",
              "        <tr>\n",
              "            <td>1056320</td>\n",
              "        </tr>\n",
              "    </tbody>\n",
              "</table>"
            ]
          },
          "metadata": {},
          "execution_count": 13
        }
      ]
    },
    {
      "cell_type": "code",
      "source": [
        "%%sql\n",
        "\n",
        "SELECT\n",
        "  c.client_id AS Cliente\n",
        "  ROUND(SUM(l.amount), 2) AS Importe_Prestado\n",
        "  ROUND(SUM(t.amount), 2) AS Importe_Trans\n",
        "  SUM(CASE\n",
        "\n",
        "  )\n",
        "  FROM CLIENT c\n",
        "  LEFT JOIN DISPOSITION d ON d.client_id = c.client_id\n",
        "  LEFT JOIN ACCOUNT a ON a.account_id = d.account_id\n",
        "  LEFT JOIN LOAN l ON l.account_id = a.account_id\n",
        "  LEFT JOIN TRANS t ON t.account_id = a.account_id\n",
        "  WHERE d.type = 'OWNER'\n",
        "  group by c.client_id\n",
        "  LIMIT 5\n",
        ""
      ],
      "metadata": {
        "colab": {
          "base_uri": "https://localhost:8080/"
        },
        "id": "2l7pEV_OCmSX",
        "outputId": "c971fb11-f0d9-4453-d66b-c0d2406b4728"
      },
      "execution_count": 25,
      "outputs": [
        {
          "output_type": "stream",
          "name": "stdout",
          "text": [
            " * sqlite:///data_berka.db\n",
            "(sqlite3.OperationalError) no such column: client\n",
            "[SQL: SELECT \n",
            "  client,\n",
            "  name,\n",
            "  COUNT(account) AS cantidad_cuentas\n",
            "FROM \n",
            "  account\n",
            "JOIN \n",
            "  client ON account = client\n",
            "GROUP BY \n",
            "  client\n",
            "HAVING \n",
            "  COUNT(account) > 1;]\n",
            "(Background on this error at: https://sqlalche.me/e/20/e3q8)\n"
          ]
        }
      ]
    },
    {
      "cell_type": "code",
      "source": [
        "%%sql\n",
        "\n",
        "SELECT *\n",
        "FROM TRANS\n",
        "WHERE date LIKE '1998-%'\n",
        "ORDER BY amount DESC\n",
        "LIMIT 10;"
      ],
      "metadata": {
        "colab": {
          "base_uri": "https://localhost:8080/",
          "height": 75
        },
        "id": "sqe5HdJyIHgn",
        "outputId": "39519a1c-766d-4058-a010-1be882647728"
      },
      "execution_count": 27,
      "outputs": [
        {
          "output_type": "stream",
          "name": "stdout",
          "text": [
            " * sqlite:///data_berka.db\n",
            "Done.\n"
          ]
        },
        {
          "output_type": "execute_result",
          "data": {
            "text/plain": [
              "[]"
            ],
            "text/html": [
              "<table>\n",
              "    <thead>\n",
              "        <tr>\n",
              "            <th>trans_id</th>\n",
              "            <th>account_id</th>\n",
              "            <th>date</th>\n",
              "            <th>type</th>\n",
              "            <th>operation</th>\n",
              "            <th>amount</th>\n",
              "            <th>balance</th>\n",
              "            <th>k_symbol</th>\n",
              "            <th>bank</th>\n",
              "            <th>account</th>\n",
              "        </tr>\n",
              "    </thead>\n",
              "    <tbody>\n",
              "    </tbody>\n",
              "</table>"
            ]
          },
          "metadata": {},
          "execution_count": 27
        }
      ]
    },
    {
      "cell_type": "code",
      "source": [
        "SELECT\n",
        "\n",
        "  AVG(balance) AS saldo_promedio\n",
        "FROM (\n",
        "  SELECT\n",
        "    client.id,\n",
        "    account.balance,\n",
        "    CASE WHEN EXISTS (\n",
        "      SELECT 1\n",
        "      FROM account AS a2\n",
        "      WHERE a2.client_id = client.id AND a2.type = 'prestamo'\n",
        "    ) THEN 'Con préstamo' ELSE 'Sin préstamo' END AS tiene_prestamo\n",
        "  FROM client\n",
        "  JOIN account ON account.client_id = client.id\n",
        ") sub\n",
        "GROUP BY tiene_prestamo;"
      ],
      "metadata": {
        "colab": {
          "base_uri": "https://localhost:8080/",
          "height": 106
        },
        "id": "N47dQ7FrSY5-",
        "outputId": "6fad549f-35d4-4370-a239-9c738a4bed75"
      },
      "execution_count": 29,
      "outputs": [
        {
          "output_type": "error",
          "ename": "IndentationError",
          "evalue": "unexpected indent (ipython-input-29-815993196.py, line 3)",
          "traceback": [
            "\u001b[0;36m  File \u001b[0;32m\"/tmp/ipython-input-29-815993196.py\"\u001b[0;36m, line \u001b[0;32m3\u001b[0m\n\u001b[0;31m    AVG(balance) AS saldo_promedio\u001b[0m\n\u001b[0m    ^\u001b[0m\n\u001b[0;31mIndentationError\u001b[0m\u001b[0;31m:\u001b[0m unexpected indent\n"
          ]
        }
      ]
    },
    {
      "cell_type": "code",
      "source": [
        "%%sql\n",
        "\n",
        "SELECT"
      ],
      "metadata": {
        "id": "db0_3wRwWT2O"
      },
      "execution_count": null,
      "outputs": []
    },
    {
      "cell_type": "code",
      "source": [
        "CASE\n",
        "WHEN MAX(t.balance) > 0 THEN 'BAJO'\n",
        "WHEN MAX(t.balance) > 0 AND MAX(t.balance) >= (SELECT medium_Limit FROM Limits) THEN 'MEDIO'\n"
      ],
      "metadata": {
        "id": "SU2pnRJY38pk"
      },
      "execution_count": null,
      "outputs": []
    }
  ]
}